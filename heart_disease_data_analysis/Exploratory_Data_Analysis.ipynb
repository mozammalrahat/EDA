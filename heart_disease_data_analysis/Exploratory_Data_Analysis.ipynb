{
 "cells": [
  {
   "cell_type": "markdown",
   "metadata": {
    "id": "SKw-e9uqiTO_"
   },
   "source": [
    "# **# # Exploratory Data Analysis (EDA)**\n",
    "**DATASET : heart_disease**\\\n",
    "\\\n",
    "\\\n",
    "**1.Describe the contents of the dataset.**\n",
    "\n",
    "\n"
   ]
  },
  {
   "cell_type": "code",
   "execution_count": 48,
   "metadata": {
    "id": "gsKMWAe6iRMQ"
   },
   "outputs": [],
   "source": [
    "import numpy as np\n",
    "import pandas as pd"
   ]
  },
  {
   "cell_type": "code",
   "execution_count": 49,
   "metadata": {
    "colab": {
     "base_uri": "https://localhost:8080/",
     "height": 212
    },
    "id": "1H-HLlO1y6VK",
    "outputId": "7a825688-173d-4c0b-e7a7-0db5ca618617"
   },
   "outputs": [
    {
     "data": {
      "text/html": [
       "<div>\n",
       "<style scoped>\n",
       "    .dataframe tbody tr th:only-of-type {\n",
       "        vertical-align: middle;\n",
       "    }\n",
       "\n",
       "    .dataframe tbody tr th {\n",
       "        vertical-align: top;\n",
       "    }\n",
       "\n",
       "    .dataframe thead th {\n",
       "        text-align: right;\n",
       "    }\n",
       "</style>\n",
       "<table border=\"1\" class=\"dataframe\">\n",
       "  <thead>\n",
       "    <tr style=\"text-align: right;\">\n",
       "      <th></th>\n",
       "      <th>Age</th>\n",
       "      <th>Sex</th>\n",
       "      <th>Chest Pain Type</th>\n",
       "      <th>Resting Blood Pressure</th>\n",
       "      <th>Cholestoral</th>\n",
       "      <th>Target</th>\n",
       "    </tr>\n",
       "  </thead>\n",
       "  <tbody>\n",
       "    <tr>\n",
       "      <th>0</th>\n",
       "      <td>63</td>\n",
       "      <td>1</td>\n",
       "      <td>3</td>\n",
       "      <td>145</td>\n",
       "      <td>233</td>\n",
       "      <td>1</td>\n",
       "    </tr>\n",
       "    <tr>\n",
       "      <th>1</th>\n",
       "      <td>37</td>\n",
       "      <td>1</td>\n",
       "      <td>2</td>\n",
       "      <td>130</td>\n",
       "      <td>250</td>\n",
       "      <td>1</td>\n",
       "    </tr>\n",
       "    <tr>\n",
       "      <th>2</th>\n",
       "      <td>41</td>\n",
       "      <td>0</td>\n",
       "      <td>1</td>\n",
       "      <td>130</td>\n",
       "      <td>204</td>\n",
       "      <td>1</td>\n",
       "    </tr>\n",
       "    <tr>\n",
       "      <th>3</th>\n",
       "      <td>56</td>\n",
       "      <td>1</td>\n",
       "      <td>1</td>\n",
       "      <td>120</td>\n",
       "      <td>236</td>\n",
       "      <td>1</td>\n",
       "    </tr>\n",
       "    <tr>\n",
       "      <th>4</th>\n",
       "      <td>57</td>\n",
       "      <td>0</td>\n",
       "      <td>0</td>\n",
       "      <td>120</td>\n",
       "      <td>354</td>\n",
       "      <td>1</td>\n",
       "    </tr>\n",
       "  </tbody>\n",
       "</table>\n",
       "</div>"
      ],
      "text/plain": [
       "   Age  Sex  Chest Pain Type  Resting Blood Pressure  Cholestoral  Target\n",
       "0   63    1                3                     145          233       1\n",
       "1   37    1                2                     130          250       1\n",
       "2   41    0                1                     130          204       1\n",
       "3   56    1                1                     120          236       1\n",
       "4   57    0                0                     120          354       1"
      ]
     },
     "execution_count": 49,
     "metadata": {},
     "output_type": "execute_result"
    }
   ],
   "source": [
    "df = pd.read_excel('heart_disease.xlsx',names=None)\n",
    "df.head()"
   ]
  },
  {
   "cell_type": "markdown",
   "metadata": {
    "id": "ZVhFNSzG7qKF"
   },
   "source": [
    "The dataset is about some patient's heart disease depending on the features Age, Sex, Chest Pain Type, Resting Blood Pressure, and Cholesterol. If the patients have heart disease the targeted result is 1 otherwise the result is 0.\n",
    "\n",
    "\n",
    "\n",
    "\n",
    "\n"
   ]
  },
  {
   "cell_type": "markdown",
   "metadata": {
    "id": "mHQFz_6u-M6Y"
   },
   "source": [
    "There are Six features in the dataset-\n",
    "\n",
    "\n",
    "1.   Age\n",
    "2.   Sex\n",
    "3.   Chest Pain Type\n",
    "4.   Resting Blood Pressure\n",
    "5.   Cholesterol\n",
    "6.   Target\n",
    "\n",
    "\n",
    "\n",
    "\n",
    "\n"
   ]
  },
  {
   "cell_type": "code",
   "execution_count": 50,
   "metadata": {
    "colab": {
     "base_uri": "https://localhost:8080/"
    },
    "id": "bk46G2KXh176",
    "outputId": "b38b7efb-ba77-42e1-bb6a-f6005b90988b"
   },
   "outputs": [
    {
     "name": "stdout",
     "output_type": "stream",
     "text": [
      "<class 'pandas.core.frame.DataFrame'>\n",
      "RangeIndex: 100 entries, 0 to 99\n",
      "Data columns (total 6 columns):\n",
      " #   Column                  Non-Null Count  Dtype\n",
      "---  ------                  --------------  -----\n",
      " 0   Age                     100 non-null    int64\n",
      " 1   Sex                     100 non-null    int64\n",
      " 2   Chest Pain Type         100 non-null    int64\n",
      " 3   Resting Blood Pressure  100 non-null    int64\n",
      " 4   Cholestoral             100 non-null    int64\n",
      " 5   Target                  100 non-null    int64\n",
      "dtypes: int64(6)\n",
      "memory usage: 4.8 KB\n"
     ]
    }
   ],
   "source": [
    "df = pd.read_excel('heart_disease.xlsx',names=None)\n",
    "df.info()"
   ]
  },
  {
   "cell_type": "markdown",
   "metadata": {
    "id": "crKmEZ_6EwwU"
   },
   "source": [
    "\n",
    "There are Three Quantitative Continuous variables. All of these are numerical Integers.\n",
    "1.   Age (Year)\n",
    "2.   Resting Blood Pressure(mmHg)\n",
    "3.   Cholestoral(mg/dl)\n",
    "\n",
    "There are also Three Categorical Variables.Among them two are Ordinal \n",
    "\n",
    "\n",
    "1.   Chest Pain Type(0 = no, 1 = typical, 2=atypical, 3 = extreme )\n",
    "2.   Target(0 = no, 1 = yes)\n",
    "\n",
    "One is Nominal variable-\n",
    "\n",
    "\n",
    "1.   Sex(1 = male, 0 = female)\n",
    "\n",
    "All of the variables are Numeric Integers\n"
   ]
  },
  {
   "cell_type": "code",
   "execution_count": 51,
   "metadata": {
    "colab": {
     "base_uri": "https://localhost:8080/"
    },
    "id": "dsEhitBtF-CN",
    "outputId": "58fc0cdf-e44e-462d-fcf3-1c83af14aa3f"
   },
   "outputs": [
    {
     "data": {
      "text/plain": [
       "False"
      ]
     },
     "execution_count": 51,
     "metadata": {},
     "output_type": "execute_result"
    }
   ],
   "source": [
    "df.isnull().values.any()"
   ]
  },
  {
   "cell_type": "code",
   "execution_count": 52,
   "metadata": {
    "colab": {
     "base_uri": "https://localhost:8080/"
    },
    "id": "OO0CGQylGQ8a",
    "outputId": "968661b3-03e7-4df8-c0b3-82cf68d16c3e"
   },
   "outputs": [
    {
     "data": {
      "text/plain": [
       "Age                       0\n",
       "Sex                       0\n",
       "Chest Pain Type           0\n",
       "Resting Blood Pressure    0\n",
       "Cholestoral               0\n",
       "Target                    0\n",
       "dtype: int64"
      ]
     },
     "execution_count": 52,
     "metadata": {},
     "output_type": "execute_result"
    }
   ],
   "source": [
    "df.isnull().sum()"
   ]
  },
  {
   "cell_type": "markdown",
   "metadata": {
    "id": "na95QW6BGV-s"
   },
   "source": [
    "There are no missing values in the dataset.\n"
   ]
  },
  {
   "cell_type": "markdown",
   "metadata": {
    "id": "mW4f9h5eGotB"
   },
   "source": [
    "# **2. Find features and targets in the data**"
   ]
  },
  {
   "cell_type": "code",
   "execution_count": 53,
   "metadata": {
    "colab": {
     "base_uri": "https://localhost:8080/",
     "height": 212
    },
    "id": "aMikl6zyvugJ",
    "outputId": "984bd082-3ea9-4ba8-9faf-edd4acabebef"
   },
   "outputs": [
    {
     "data": {
      "text/html": [
       "<div>\n",
       "<style scoped>\n",
       "    .dataframe tbody tr th:only-of-type {\n",
       "        vertical-align: middle;\n",
       "    }\n",
       "\n",
       "    .dataframe tbody tr th {\n",
       "        vertical-align: top;\n",
       "    }\n",
       "\n",
       "    .dataframe thead th {\n",
       "        text-align: right;\n",
       "    }\n",
       "</style>\n",
       "<table border=\"1\" class=\"dataframe\">\n",
       "  <thead>\n",
       "    <tr style=\"text-align: right;\">\n",
       "      <th></th>\n",
       "      <th>Age</th>\n",
       "      <th>Sex</th>\n",
       "      <th>Chest Pain Type</th>\n",
       "      <th>Resting Blood Pressure</th>\n",
       "      <th>Cholestoral</th>\n",
       "      <th>Target</th>\n",
       "    </tr>\n",
       "  </thead>\n",
       "  <tbody>\n",
       "    <tr>\n",
       "      <th>0</th>\n",
       "      <td>63</td>\n",
       "      <td>1</td>\n",
       "      <td>3</td>\n",
       "      <td>145</td>\n",
       "      <td>233</td>\n",
       "      <td>1</td>\n",
       "    </tr>\n",
       "    <tr>\n",
       "      <th>1</th>\n",
       "      <td>37</td>\n",
       "      <td>1</td>\n",
       "      <td>2</td>\n",
       "      <td>130</td>\n",
       "      <td>250</td>\n",
       "      <td>1</td>\n",
       "    </tr>\n",
       "    <tr>\n",
       "      <th>2</th>\n",
       "      <td>41</td>\n",
       "      <td>0</td>\n",
       "      <td>1</td>\n",
       "      <td>130</td>\n",
       "      <td>204</td>\n",
       "      <td>1</td>\n",
       "    </tr>\n",
       "    <tr>\n",
       "      <th>3</th>\n",
       "      <td>56</td>\n",
       "      <td>1</td>\n",
       "      <td>1</td>\n",
       "      <td>120</td>\n",
       "      <td>236</td>\n",
       "      <td>1</td>\n",
       "    </tr>\n",
       "    <tr>\n",
       "      <th>4</th>\n",
       "      <td>57</td>\n",
       "      <td>0</td>\n",
       "      <td>0</td>\n",
       "      <td>120</td>\n",
       "      <td>354</td>\n",
       "      <td>1</td>\n",
       "    </tr>\n",
       "  </tbody>\n",
       "</table>\n",
       "</div>"
      ],
      "text/plain": [
       "   Age  Sex  Chest Pain Type  Resting Blood Pressure  Cholestoral  Target\n",
       "0   63    1                3                     145          233       1\n",
       "1   37    1                2                     130          250       1\n",
       "2   41    0                1                     130          204       1\n",
       "3   56    1                1                     120          236       1\n",
       "4   57    0                0                     120          354       1"
      ]
     },
     "execution_count": 53,
     "metadata": {},
     "output_type": "execute_result"
    }
   ],
   "source": [
    "%matplotlib inline\n",
    "import matplotlib.pyplot as plt\n",
    "import seaborn as sns\n",
    "df.head()"
   ]
  },
  {
   "cell_type": "markdown",
   "metadata": {
    "id": "dlc-Ws8mIA9r"
   },
   "source": [
    "\\\n",
    "There is six variable in our dataset. The first one is age measures in years. The second one is sex Male or Female. The Third one is Chest pain type. If the value is 0 there is no chest pain, if the value is 1 there is typical chest pain if the value is 2 there is atypical chest pain and if the value is 3 there is extreme chest pain and increases the chance of heart disease. The Fourth one is Resting Blood Pressure. It is measured in millimeter mercury unit. The fifth one is Cholesterol measured in mg/dl. The last one is the targeted value. It is 1 if anyone has heart disease else 0.\n",
    "\\"
   ]
  },
  {
   "cell_type": "code",
   "execution_count": 54,
   "metadata": {
    "colab": {
     "base_uri": "https://localhost:8080/",
     "height": 722
    },
    "id": "mtQk3S44xJTm",
    "outputId": "f29e6e6d-95c9-4e2e-d370-e061a36cf1f7"
   },
   "outputs": [
    {
     "name": "stdout",
     "output_type": "stream",
     "text": [
      "                             Age       Sex  Chest Pain Type  \\\n",
      "Age                     1.000000 -0.186406        -0.031068   \n",
      "Sex                    -0.186406  1.000000        -0.128586   \n",
      "Chest Pain Type        -0.031068 -0.128586         1.000000   \n",
      "Resting Blood Pressure  0.327069 -0.192667         0.187880   \n",
      "Cholestoral             0.278836 -0.307994        -0.003970   \n",
      "Target                 -0.216070 -0.267261         0.519615   \n",
      "\n",
      "                        Resting Blood Pressure  Cholestoral    Target  \n",
      "Age                                   0.327069     0.278836 -0.216070  \n",
      "Sex                                  -0.192667    -0.307994 -0.267261  \n",
      "Chest Pain Type                       0.187880    -0.003970  0.519615  \n",
      "Resting Blood Pressure                1.000000     0.206799  0.101193  \n",
      "Cholestoral                           0.206799     1.000000  0.032800  \n",
      "Target                                0.101193     0.032800  1.000000  \n"
     ]
    },
    {
     "data": {
      "text/plain": [
       "<AxesSubplot:>"
      ]
     },
     "execution_count": 54,
     "metadata": {},
     "output_type": "execute_result"
    },
    {
     "data": {
      "image/png": "[encoded data removed]",
      "text/plain": [
       "<Figure size 648x504 with 2 Axes>"
      ]
     },
     "metadata": {
      "needs_background": "light"
     },
     "output_type": "display_data"
    }
   ],
   "source": [
    "corrmat = df.corr()\n",
    "plt.figure(figsize=(9,7))\n",
    "print(corrmat)\n",
    "sns.heatmap(corrmat, cmap='YlGnBu',linewidths=0.1)"
   ]
  },
  {
   "cell_type": "markdown",
   "metadata": {
    "id": "_GQWo7ad0147"
   },
   "source": [
    "\\\n",
    "Independent variables (also referred to as Features) are the input for a process that is being analyzes. Dependent variables are the output of the process. In this dataset our first five features called Age, Sex, Chest Pain Type, Resting Blood Pressure, Cholesterol is Independent Variables. The last Target value is the dependent variable.\\\n",
    "There are tendencies of increasing blood pressure and Cholesterol according to age. If Cholesterol and Blood pressure increase there is a good chance for Chest pain. Chest pain is directly related to our Target value.\\\n",
    "Age, Cholesterol, and Age, Resting Blood Pressure are highly correlated. Resting Blood Pressure and Cholesterol are also positively correlated with each other. Chest Pain Type is most positively correlated with the Target value. There is also a negative correlation between Sex and Cholesterol, Target, and Sex. Negative correlation also between Chest pain type with Sex and Sex with Target also seen."
   ]
  },
  {
   "cell_type": "markdown",
   "metadata": {
    "id": "CD88w8R3Kb0x"
   },
   "source": [
    "# **3. Ask appropriate questions that can be answered using the available information.**"
   ]
  },
  {
   "cell_type": "markdown",
   "metadata": {
    "id": "hsKiKXkubHbe"
   },
   "source": [
    "1. Find the number of patients having heart disease and the patients that haven't heart disease?\n",
    "2. How many Male and Female patients have heart disease and how many haven't?\n",
    "3. How many patients suffered from various types of chest Pains?\n",
    "4. How many people in the age group 37-50 have heart disease?\n",
    "5. How many people in the age group 50-71 have heart disease?\n",
    "6. Does High blood pressure at rest correspond to heart disease?\n",
    "7. Does high blood pressure correspond to high cholesterol?"
   ]
  },
  {
   "cell_type": "code",
   "execution_count": 55,
   "metadata": {
    "colab": {
     "base_uri": "https://localhost:8080/"
    },
    "id": "CKBREPxWKbFi",
    "outputId": "864216bf-ced5-43cf-da21-1382e01548b6"
   },
   "outputs": [
    {
     "data": {
      "text/plain": [
       "Target\n",
       "0    50\n",
       "1    50\n",
       "dtype: int64"
      ]
     },
     "execution_count": 55,
     "metadata": {},
     "output_type": "execute_result"
    }
   ],
   "source": [
    "#the number of patients having heart disease and the patients that haven't heart disease\n",
    "\n",
    "df_target = df.groupby('Target').size()\n",
    "df_target\n"
   ]
  },
  {
   "cell_type": "code",
   "execution_count": 56,
   "metadata": {
    "colab": {
     "base_uri": "https://localhost:8080/"
    },
    "id": "wQCPMDwYjZYr",
    "outputId": "36e592eb-972f-4c8b-8145-01cbc3ebce92"
   },
   "outputs": [
    {
     "data": {
      "text/plain": [
       "Sex  Target\n",
       "0    0          8\n",
       "     1         20\n",
       "1    0         42\n",
       "     1         30\n",
       "dtype: int64"
      ]
     },
     "execution_count": 56,
     "metadata": {},
     "output_type": "execute_result"
    }
   ],
   "source": [
    "#The number of Male and female patients have heart disease and the number that haven't\n",
    "\n",
    "df_sex = df.groupby(['Sex','Target']).size()\n",
    "df_sex"
   ]
  },
  {
   "cell_type": "markdown",
   "metadata": {
    "id": "l79l0LiblD_p"
   },
   "source": [
    "The Result can be more understandable when we visualize it.\n"
   ]
  },
  {
   "cell_type": "code",
   "execution_count": 57,
   "metadata": {
    "colab": {
     "base_uri": "https://localhost:8080/",
     "height": 603
    },
    "id": "ZMw1NSM_lO6Q",
    "outputId": "8308ee29-1d33-4e58-de8b-db6753db8e0d"
   },
   "outputs": [
    {
     "data": {
      "text/plain": [
       "([<matplotlib.patches.Wedge at 0x1745b09a100>,\n",
       "  <matplotlib.patches.Wedge at 0x1745b09a7f0>,\n",
       "  <matplotlib.patches.Wedge at 0x1745b09adc0>,\n",
       "  <matplotlib.patches.Wedge at 0x1745b0a63a0>],\n",
       " [Text(2.1308829575564805, 0.5471177397922209, 'Female no Heart disease'),\n",
       "  Text(0.936714445170665, 1.9906195136712124, 'Female Having Heart disease'),\n",
       "  Text(-2.195658797886129, 0.13813921697055853, 'Male no Heart disease'),\n",
       "  Text(1.2931274883872783, -1.7798374360534195, 'Male Having Heart disease')],\n",
       " [Text(1.1622997950308074, 0.2984278580684841, '8.00%'),\n",
       "  Text(0.5109351519112718, 1.0857924620024793, '20.00%'),\n",
       "  Text(-1.197632071574252, 0.07534866380212284, '42.00%'),\n",
       "  Text(0.7053422663930607, -0.9708204196655015, '30.00%')])"
      ]
     },
     "execution_count": 57,
     "metadata": {},
     "output_type": "execute_result"
    },
    {
     "data": {
      "image/png": "[encoded data removed]",
      "text/plain": [
       "<Figure size 432x288 with 1 Axes>"
      ]
     },
     "metadata": {},
     "output_type": "display_data"
    }
   ],
   "source": [
    "plt.pie(df_sex.values, labels=['Female no Heart disease','Female Having Heart disease','Male no Heart disease','Male Having Heart disease'],\n",
    "        autopct='%1.2f%%' ,radius=2)"
   ]
  },
  {
   "cell_type": "code",
   "execution_count": 58,
   "metadata": {
    "colab": {
     "base_uri": "https://localhost:8080/"
    },
    "id": "3r6sxpUPmbkJ",
    "outputId": "87a7b8cc-b45b-44e2-fc59-f7adc62dab76"
   },
   "outputs": [
    {
     "data": {
      "text/plain": [
       "Chest Pain Type\n",
       "0    47\n",
       "1    13\n",
       "2    33\n",
       "3     7\n",
       "dtype: int64"
      ]
     },
     "execution_count": 58,
     "metadata": {},
     "output_type": "execute_result"
    }
   ],
   "source": [
    "# Patients suffered from various types of cheast \n",
    "\n",
    "df_chestpain = df.groupby(['Chest Pain Type']).size()\n",
    "df_chestpain"
   ]
  },
  {
   "cell_type": "code",
   "execution_count": 59,
   "metadata": {
    "colab": {
     "base_uri": "https://localhost:8080/",
     "height": 641
    },
    "id": "DTR8Th_mn62D",
    "outputId": "21124613-402d-4a4f-f06c-e8d44dba42ec"
   },
   "outputs": [
    {
     "data": {
      "text/plain": [
       "([<matplotlib.patches.Wedge at 0x1745b5e2340>,\n",
       "  <matplotlib.patches.Wedge at 0x1745b5e2a30>,\n",
       "  <matplotlib.patches.Wedge at 0x1745b5e2fd0>,\n",
       "  <matplotlib.patches.Wedge at 0x1745b5f03d0>],\n",
       " [Text(0.20703829750332084, 2.190236321351403, 'Chest Pain Type 0'),\n",
       "  Text(-2.1470168870491393, -0.47991508282801826, 'Chest Pain Type 1'),\n",
       "  Text(0.20703829750332028, -2.1902363213514033, 'Chest Pain Type 2'),\n",
       "  Text(2.147016898282362, -0.47991503257346135, 'Chest Pain Type 3')],\n",
       " [Text(0.11292998045635681, 1.1946743571007652, '47.00%'),\n",
       "  Text(-1.1711001202086213, -0.2617718633607372, '13.00%'),\n",
       "  Text(0.11292998045635651, -1.1946743571007654, '33.00%'),\n",
       "  Text(1.1711001263358338, -0.2617718359491607, '7.00%')])"
      ]
     },
     "execution_count": 59,
     "metadata": {},
     "output_type": "execute_result"
    },
    {
     "data": {
      "image/png": "[encoded data removed]",
      "text/plain": [
       "<Figure size 432x288 with 1 Axes>"
      ]
     },
     "metadata": {},
     "output_type": "display_data"
    }
   ],
   "source": [
    "plt.pie(df_chestpain.values, labels=['Chest Pain Type 0','Chest Pain Type 1','Chest Pain Type 2','Chest Pain Type 3'],\n",
    "        autopct='%1.2f%%' ,radius=2)"
   ]
  },
  {
   "cell_type": "code",
   "execution_count": 60,
   "metadata": {
    "colab": {
     "base_uri": "https://localhost:8080/",
     "height": 177
    },
    "id": "fhaBJgmJomkk",
    "outputId": "076d2c28-6310-460c-93e7-90ff23e4c57d"
   },
   "outputs": [
    {
     "data": {
      "text/html": [
       "<div>\n",
       "<style scoped>\n",
       "    .dataframe tbody tr th:only-of-type {\n",
       "        vertical-align: middle;\n",
       "    }\n",
       "\n",
       "    .dataframe tbody tr th {\n",
       "        vertical-align: top;\n",
       "    }\n",
       "\n",
       "    .dataframe thead th {\n",
       "        text-align: right;\n",
       "    }\n",
       "</style>\n",
       "<table border=\"1\" class=\"dataframe\">\n",
       "  <thead>\n",
       "    <tr style=\"text-align: right;\">\n",
       "      <th></th>\n",
       "      <th>Target</th>\n",
       "      <th>Age</th>\n",
       "    </tr>\n",
       "  </thead>\n",
       "  <tbody>\n",
       "    <tr>\n",
       "      <th>0</th>\n",
       "      <td>0</td>\n",
       "      <td>9</td>\n",
       "    </tr>\n",
       "    <tr>\n",
       "      <th>1</th>\n",
       "      <td>1</td>\n",
       "      <td>17</td>\n",
       "    </tr>\n",
       "  </tbody>\n",
       "</table>\n",
       "</div>"
      ],
      "text/plain": [
       "   Target  Age\n",
       "0       0    9\n",
       "1       1   17"
      ]
     },
     "execution_count": 60,
     "metadata": {},
     "output_type": "execute_result"
    }
   ],
   "source": [
    "# People of age group 37-50 have heart disease\n",
    "\n",
    "df_age_37_50 = pd.concat([df[(df['Age']>=37) & (df['Age']<50)][['Age','Target']].groupby(by='Target',axis=0).count()])\n",
    "df_age_37_50.reset_index(inplace=True)\n",
    "df_age_37_50\n"
   ]
  },
  {
   "cell_type": "code",
   "execution_count": 61,
   "metadata": {
    "colab": {
     "base_uri": "https://localhost:8080/",
     "height": 476
    },
    "id": "M5lUScdksiL7",
    "outputId": "35d8cb58-50db-463a-c4b9-7e6e067be70b"
   },
   "outputs": [
    {
     "data": {
      "text/plain": [
       "[Text(0.5, 0, 'Result'), Text(0, 0.5, 'Number of People aged(37-50)')]"
      ]
     },
     "execution_count": 61,
     "metadata": {},
     "output_type": "execute_result"
    },
    {
     "data": {
      "image/png": "[encoded data removed]",
      "text/plain": [
       "<Figure size 432x504 with 1 Axes>"
      ]
     },
     "metadata": {
      "needs_background": "light"
     },
     "output_type": "display_data"
    }
   ],
   "source": [
    "plt.figure(figsize=(6,7))\n",
    "ax = sns.barplot(x='Target',y='Age',data=df_age_37_50)\n",
    "ax.set(xlabel='Result',ylabel='Number of People aged(37-50)')"
   ]
  },
  {
   "cell_type": "code",
   "execution_count": 62,
   "metadata": {
    "colab": {
     "base_uri": "https://localhost:8080/",
     "height": 177
    },
    "id": "GJpppfOOwq9B",
    "outputId": "15dee41f-b7b3-432f-dd25-d37a8b096fc0"
   },
   "outputs": [
    {
     "data": {
      "text/html": [
       "<div>\n",
       "<style scoped>\n",
       "    .dataframe tbody tr th:only-of-type {\n",
       "        vertical-align: middle;\n",
       "    }\n",
       "\n",
       "    .dataframe tbody tr th {\n",
       "        vertical-align: top;\n",
       "    }\n",
       "\n",
       "    .dataframe thead th {\n",
       "        text-align: right;\n",
       "    }\n",
       "</style>\n",
       "<table border=\"1\" class=\"dataframe\">\n",
       "  <thead>\n",
       "    <tr style=\"text-align: right;\">\n",
       "      <th></th>\n",
       "      <th>Target</th>\n",
       "      <th>Age</th>\n",
       "    </tr>\n",
       "  </thead>\n",
       "  <tbody>\n",
       "    <tr>\n",
       "      <th>0</th>\n",
       "      <td>0</td>\n",
       "      <td>41</td>\n",
       "    </tr>\n",
       "    <tr>\n",
       "      <th>1</th>\n",
       "      <td>1</td>\n",
       "      <td>32</td>\n",
       "    </tr>\n",
       "  </tbody>\n",
       "</table>\n",
       "</div>"
      ],
      "text/plain": [
       "   Target  Age\n",
       "0       0   41\n",
       "1       1   32"
      ]
     },
     "execution_count": 62,
     "metadata": {},
     "output_type": "execute_result"
    }
   ],
   "source": [
    "# People of age group 50-71 have heart disease\n",
    "\n",
    "df_age_50_71 = pd.concat([df[(df['Age']>=50) & (df['Age']<71)][['Age','Target']].groupby(by='Target',axis=0).count()])\n",
    "df_age_50_71.reset_index(inplace=True)\n",
    "df_age_50_71"
   ]
  },
  {
   "cell_type": "code",
   "execution_count": 63,
   "metadata": {
    "colab": {
     "base_uri": "https://localhost:8080/",
     "height": 476
    },
    "id": "j_Wa-EULxTjK",
    "outputId": "fb3fa3ba-09b5-4e76-90e4-d6716adc6036"
   },
   "outputs": [
    {
     "data": {
      "text/plain": [
       "[Text(0.5, 0, 'Result'), Text(0, 0.5, 'Number of People aged(50-71)')]"
      ]
     },
     "execution_count": 63,
     "metadata": {},
     "output_type": "execute_result"
    },
    {
     "data": {
      "image/png": "[encoded data removed]",
      "text/plain": [
       "<Figure size 432x504 with 1 Axes>"
      ]
     },
     "metadata": {
      "needs_background": "light"
     },
     "output_type": "display_data"
    }
   ],
   "source": [
    "plt.figure(figsize=(6,7))\n",
    "ax = sns.barplot(x='Target',y='Age',data=df_age_50_71)\n",
    "ax.set(xlabel='Result',ylabel='Number of People aged(50-71)')"
   ]
  },
  {
   "cell_type": "code",
   "execution_count": 64,
   "metadata": {
    "colab": {
     "base_uri": "https://localhost:8080/",
     "height": 177
    },
    "id": "iSWVHtryx3lE",
    "outputId": "1737910f-4d53-4faa-e750-e29276261d51"
   },
   "outputs": [
    {
     "data": {
      "text/html": [
       "<div>\n",
       "<style scoped>\n",
       "    .dataframe tbody tr th:only-of-type {\n",
       "        vertical-align: middle;\n",
       "    }\n",
       "\n",
       "    .dataframe tbody tr th {\n",
       "        vertical-align: top;\n",
       "    }\n",
       "\n",
       "    .dataframe thead th {\n",
       "        text-align: right;\n",
       "    }\n",
       "</style>\n",
       "<table border=\"1\" class=\"dataframe\">\n",
       "  <thead>\n",
       "    <tr style=\"text-align: right;\">\n",
       "      <th></th>\n",
       "      <th>Target</th>\n",
       "      <th>Resting Blood Pressure</th>\n",
       "    </tr>\n",
       "  </thead>\n",
       "  <tbody>\n",
       "    <tr>\n",
       "      <th>0</th>\n",
       "      <td>0</td>\n",
       "      <td>12</td>\n",
       "    </tr>\n",
       "    <tr>\n",
       "      <th>1</th>\n",
       "      <td>1</td>\n",
       "      <td>13</td>\n",
       "    </tr>\n",
       "  </tbody>\n",
       "</table>\n",
       "</div>"
      ],
      "text/plain": [
       "   Target  Resting Blood Pressure\n",
       "0       0                      12\n",
       "1       1                      13"
      ]
     },
     "execution_count": 64,
     "metadata": {},
     "output_type": "execute_result"
    }
   ],
   "source": [
    "# High blood pressure at rest corresponds to a heart disease?\n",
    "\n",
    "df_hbp =pd.concat([df[(df['Resting Blood Pressure']>140)][['Resting Blood Pressure','Target']].groupby(by='Target',axis=0).count()])\n",
    "df_hbp.reset_index(inplace=True)\n",
    "df_hbp\n"
   ]
  },
  {
   "cell_type": "code",
   "execution_count": 65,
   "metadata": {
    "colab": {
     "base_uri": "https://localhost:8080/",
     "height": 493
    },
    "id": "QRRZpJJ77BZX",
    "outputId": "82dff37a-b964-41d1-a42d-46955fc724b6"
   },
   "outputs": [
    {
     "data": {
      "text/plain": [
       "[Text(0.5, 0, 'Result(Resting Blood Pressure>140)'),\n",
       " Text(0, 0.5, 'Number of People')]"
      ]
     },
     "execution_count": 65,
     "metadata": {},
     "output_type": "execute_result"
    },
    {
     "data": {
      "image/png": "[encoded data removed]",
      "text/plain": [
       "<Figure size 432x504 with 1 Axes>"
      ]
     },
     "metadata": {
      "needs_background": "light"
     },
     "output_type": "display_data"
    }
   ],
   "source": [
    "plt.figure(figsize=(6,7))\n",
    "ax = sns.barplot(x='Target',y='Resting Blood Pressure',data=df_hbp)\n",
    "ax.set(xlabel='Result(Resting Blood Pressure>140)',ylabel='Number of People')"
   ]
  },
  {
   "cell_type": "markdown",
   "metadata": {
    "id": "RPafhvapRtyj"
   },
   "source": [
    "We know that if the cholesterol limit is greater than 240 thaen it is called High cholesterol."
   ]
  },
  {
   "cell_type": "code",
   "execution_count": 66,
   "metadata": {
    "colab": {
     "base_uri": "https://localhost:8080/",
     "height": 212
    },
    "id": "LOVH4rQbSbb7",
    "outputId": "98183ebc-700c-41f4-f56b-87b816f37ca8"
   },
   "outputs": [
    {
     "data": {
      "text/html": [
       "<div>\n",
       "<style scoped>\n",
       "    .dataframe tbody tr th:only-of-type {\n",
       "        vertical-align: middle;\n",
       "    }\n",
       "\n",
       "    .dataframe tbody tr th {\n",
       "        vertical-align: top;\n",
       "    }\n",
       "\n",
       "    .dataframe thead th {\n",
       "        text-align: right;\n",
       "    }\n",
       "</style>\n",
       "<table border=\"1\" class=\"dataframe\">\n",
       "  <thead>\n",
       "    <tr style=\"text-align: right;\">\n",
       "      <th></th>\n",
       "      <th>Age</th>\n",
       "      <th>Sex</th>\n",
       "      <th>Chest Pain Type</th>\n",
       "      <th>Resting Blood Pressure</th>\n",
       "      <th>Cholestoral</th>\n",
       "      <th>Target</th>\n",
       "    </tr>\n",
       "  </thead>\n",
       "  <tbody>\n",
       "    <tr>\n",
       "      <th>0</th>\n",
       "      <td>63</td>\n",
       "      <td>1</td>\n",
       "      <td>3</td>\n",
       "      <td>145</td>\n",
       "      <td>233</td>\n",
       "      <td>1</td>\n",
       "    </tr>\n",
       "    <tr>\n",
       "      <th>1</th>\n",
       "      <td>37</td>\n",
       "      <td>1</td>\n",
       "      <td>2</td>\n",
       "      <td>130</td>\n",
       "      <td>250</td>\n",
       "      <td>1</td>\n",
       "    </tr>\n",
       "    <tr>\n",
       "      <th>2</th>\n",
       "      <td>41</td>\n",
       "      <td>0</td>\n",
       "      <td>1</td>\n",
       "      <td>130</td>\n",
       "      <td>204</td>\n",
       "      <td>1</td>\n",
       "    </tr>\n",
       "    <tr>\n",
       "      <th>3</th>\n",
       "      <td>56</td>\n",
       "      <td>1</td>\n",
       "      <td>1</td>\n",
       "      <td>120</td>\n",
       "      <td>236</td>\n",
       "      <td>1</td>\n",
       "    </tr>\n",
       "    <tr>\n",
       "      <th>4</th>\n",
       "      <td>57</td>\n",
       "      <td>0</td>\n",
       "      <td>0</td>\n",
       "      <td>120</td>\n",
       "      <td>354</td>\n",
       "      <td>1</td>\n",
       "    </tr>\n",
       "  </tbody>\n",
       "</table>\n",
       "</div>"
      ],
      "text/plain": [
       "   Age  Sex  Chest Pain Type  Resting Blood Pressure  Cholestoral  Target\n",
       "0   63    1                3                     145          233       1\n",
       "1   37    1                2                     130          250       1\n",
       "2   41    0                1                     130          204       1\n",
       "3   56    1                1                     120          236       1\n",
       "4   57    0                0                     120          354       1"
      ]
     },
     "execution_count": 66,
     "metadata": {},
     "output_type": "execute_result"
    }
   ],
   "source": [
    "df.head()"
   ]
  },
  {
   "cell_type": "code",
   "execution_count": 67,
   "metadata": {
    "colab": {
     "base_uri": "https://localhost:8080/",
     "height": 212
    },
    "id": "LVr1ZXdoRtIj",
    "outputId": "112f6d8a-d7e2-46ab-b927-256a7cc166ae"
   },
   "outputs": [
    {
     "data": {
      "text/html": [
       "<div>\n",
       "<style scoped>\n",
       "    .dataframe tbody tr th:only-of-type {\n",
       "        vertical-align: middle;\n",
       "    }\n",
       "\n",
       "    .dataframe tbody tr th {\n",
       "        vertical-align: top;\n",
       "    }\n",
       "\n",
       "    .dataframe thead th {\n",
       "        text-align: right;\n",
       "    }\n",
       "</style>\n",
       "<table border=\"1\" class=\"dataframe\">\n",
       "  <thead>\n",
       "    <tr style=\"text-align: right;\">\n",
       "      <th></th>\n",
       "      <th>index</th>\n",
       "      <th>Resting Blood Pressure</th>\n",
       "      <th>Cholestoral</th>\n",
       "    </tr>\n",
       "  </thead>\n",
       "  <tbody>\n",
       "    <tr>\n",
       "      <th>0</th>\n",
       "      <td>0</td>\n",
       "      <td>145</td>\n",
       "      <td>233</td>\n",
       "    </tr>\n",
       "    <tr>\n",
       "      <th>1</th>\n",
       "      <td>8</td>\n",
       "      <td>172</td>\n",
       "      <td>199</td>\n",
       "    </tr>\n",
       "    <tr>\n",
       "      <th>2</th>\n",
       "      <td>9</td>\n",
       "      <td>150</td>\n",
       "      <td>168</td>\n",
       "    </tr>\n",
       "    <tr>\n",
       "      <th>3</th>\n",
       "      <td>14</td>\n",
       "      <td>150</td>\n",
       "      <td>283</td>\n",
       "    </tr>\n",
       "    <tr>\n",
       "      <th>4</th>\n",
       "      <td>17</td>\n",
       "      <td>150</td>\n",
       "      <td>226</td>\n",
       "    </tr>\n",
       "  </tbody>\n",
       "</table>\n",
       "</div>"
      ],
      "text/plain": [
       "   index  Resting Blood Pressure  Cholestoral\n",
       "0      0                     145          233\n",
       "1      8                     172          199\n",
       "2      9                     150          168\n",
       "3     14                     150          283\n",
       "4     17                     150          226"
      ]
     },
     "execution_count": 67,
     "metadata": {},
     "output_type": "execute_result"
    }
   ],
   "source": [
    "#high blood pressure corresponds to high cholestoral\n",
    "\n",
    "df_hc =pd.concat([df[(df['Resting Blood Pressure']>140)][['Resting Blood Pressure','Cholestoral']]])\n",
    "df_hc.reset_index(inplace=True)\n",
    "df_hc.head()"
   ]
  },
  {
   "cell_type": "code",
   "execution_count": 68,
   "metadata": {
    "colab": {
     "base_uri": "https://localhost:8080/",
     "height": 351
    },
    "id": "clz7uweOU6UA",
    "outputId": "532adf29-2a9e-4ddb-b213-38e13dc40957"
   },
   "outputs": [
    {
     "data": {
      "image/png": "[encoded data removed]",
      "text/plain": [
       "<Figure size 864x360 with 2 Axes>"
      ]
     },
     "metadata": {
      "needs_background": "light"
     },
     "output_type": "display_data"
    }
   ],
   "source": [
    "ax = df_hc.plot.scatter('Resting Blood Pressure','Cholestoral',c='Cholestoral',s=df_hc['Resting Blood Pressure']\n",
    "                        ,colormap='viridis',sharex=False,figsize=(12,5))"
   ]
  },
  {
   "cell_type": "markdown",
   "metadata": {
    "id": "6H4EkIezXPI5"
   },
   "source": [
    "# **4. Find the learning task (Supervised/Unsupervised) here (Regression or Classification or Clustering).**"
   ]
  },
  {
   "cell_type": "markdown",
   "metadata": {
    "id": "j85PvAWzXuE3"
   },
   "source": [
    "This Dataset is a supervised learning dataset. Supervised learning is the machine learning task of learning a function that maps an input to an output based on example input-output pairs.\\\n",
    "\\\n",
    "This is also a Classification problem. The Target value is always 0 and 1. So this is a Binary Classification problem.\\\n",
    "\\\n",
    "The ultimate goal of this dataset is to answer whether a person has heart disease or not.\n",
    "\\\n",
    "We can Predict the quantities for some unseen independent variable. Here I'm going to use logistic regression for this process.\n"
   ]
  },
  {
   "cell_type": "code",
   "execution_count": 69,
   "metadata": {
    "colab": {
     "base_uri": "https://localhost:8080/",
     "height": 317
    },
    "id": "RdA-oww7Zyd4",
    "outputId": "8bd7e160-b1d7-472b-fc08-67d4d2db1abb"
   },
   "outputs": [
    {
     "data": {
      "text/plain": [
       "<sklearn.metrics._plot.confusion_matrix.ConfusionMatrixDisplay at 0x17458b2af40>"
      ]
     },
     "execution_count": 69,
     "metadata": {},
     "output_type": "execute_result"
    },
    {
     "data": {
      "image/png": "[encoded data removed]",
      "text/plain": [
       "<Figure size 432x288 with 2 Axes>"
      ]
     },
     "metadata": {
      "needs_background": "light"
     },
     "output_type": "display_data"
    }
   ],
   "source": [
    "from sklearn.model_selection import train_test_split\n",
    "from sklearn.linear_model import LogisticRegression\n",
    "from sklearn.metrics import confusion_matrix\n",
    "from sklearn.metrics import plot_confusion_matrix\n",
    "from sklearn.metrics import accuracy_score\n",
    "y = df['Target'].values\n",
    "X = df.drop(['Target'],axis=1)\n",
    "x_train,x_test,y_train,y_test = train_test_split(X,y,test_size=.2,random_state=0)\n",
    "\n",
    "classifier = LogisticRegression(random_state=0)\n",
    "classifier.fit(x_train,y_train)\n",
    "y_pred = classifier.predict(x_test)\n",
    "cm = confusion_matrix(y_test,y_pred)\n",
    "plot_confusion_matrix(classifier, x_test,y_test)"
   ]
  },
  {
   "cell_type": "markdown",
   "metadata": {
    "id": "EAx-kkVwkv16"
   },
   "source": [
    "The Accuracy of our classifier"
   ]
  },
  {
   "cell_type": "code",
   "execution_count": 70,
   "metadata": {
    "colab": {
     "base_uri": "https://localhost:8080/"
    },
    "id": "qYgQ5wvkjGOo",
    "outputId": "0fed60c4-5e35-440a-ce7f-a4bff52109f5"
   },
   "outputs": [
    {
     "data": {
      "text/plain": [
       "0.7"
      ]
     },
     "execution_count": 70,
     "metadata": {},
     "output_type": "execute_result"
    }
   ],
   "source": [
    "accuracy_score(y_test,y_pred)"
   ]
  },
  {
   "cell_type": "markdown",
   "metadata": {
    "id": "3s3LlbErKMTr"
   },
   "source": [
    "For some unseen data we can also predict the result"
   ]
  },
  {
   "cell_type": "code",
   "execution_count": 71,
   "metadata": {
    "colab": {
     "base_uri": "https://localhost:8080/"
    },
    "id": "XDpdkafQt8l8",
    "outputId": "9ef828ca-8a40-45c5-f803-70642f87c0b7"
   },
   "outputs": [
    {
     "name": "stdout",
     "output_type": "stream",
     "text": [
      "[1]\n"
     ]
    }
   ],
   "source": [
    "test = np.array([56,1,2,135,220])\n",
    "test = np.reshape(test,(1,5))\n",
    "print(classifier.predict(test))"
   ]
  },
  {
   "cell_type": "markdown",
   "metadata": {
    "id": "qXT2uVnSy6LL"
   },
   "source": [
    "# **5. Calculate and Explain the statistics (mean,median,mode, range,variance,standard deviation etc.) of each feature.**"
   ]
  },
  {
   "cell_type": "markdown",
   "metadata": {
    "id": "vspDoI8hMtX6"
   },
   "source": [
    "The Mean, Median, and Mode are the central tendencies of data. A measure of central tendency is a single value that attempts to describe a set of data by identifying the central position within that set of data."
   ]
  },
  {
   "cell_type": "code",
   "execution_count": 72,
   "metadata": {
    "colab": {
     "base_uri": "https://localhost:8080/",
     "height": 212
    },
    "id": "ATR2kukkQunw",
    "outputId": "c34928a5-fcd5-4fd5-cad8-8b26501fe450"
   },
   "outputs": [
    {
     "data": {
      "text/html": [
       "<div>\n",
       "<style scoped>\n",
       "    .dataframe tbody tr th:only-of-type {\n",
       "        vertical-align: middle;\n",
       "    }\n",
       "\n",
       "    .dataframe tbody tr th {\n",
       "        vertical-align: top;\n",
       "    }\n",
       "\n",
       "    .dataframe thead th {\n",
       "        text-align: right;\n",
       "    }\n",
       "</style>\n",
       "<table border=\"1\" class=\"dataframe\">\n",
       "  <thead>\n",
       "    <tr style=\"text-align: right;\">\n",
       "      <th></th>\n",
       "      <th>Age</th>\n",
       "      <th>Resting Blood Pressure</th>\n",
       "      <th>Cholestoral</th>\n",
       "    </tr>\n",
       "  </thead>\n",
       "  <tbody>\n",
       "    <tr>\n",
       "      <th>0</th>\n",
       "      <td>63</td>\n",
       "      <td>145</td>\n",
       "      <td>233</td>\n",
       "    </tr>\n",
       "    <tr>\n",
       "      <th>1</th>\n",
       "      <td>37</td>\n",
       "      <td>130</td>\n",
       "      <td>250</td>\n",
       "    </tr>\n",
       "    <tr>\n",
       "      <th>2</th>\n",
       "      <td>41</td>\n",
       "      <td>130</td>\n",
       "      <td>204</td>\n",
       "    </tr>\n",
       "    <tr>\n",
       "      <th>3</th>\n",
       "      <td>56</td>\n",
       "      <td>120</td>\n",
       "      <td>236</td>\n",
       "    </tr>\n",
       "    <tr>\n",
       "      <th>4</th>\n",
       "      <td>57</td>\n",
       "      <td>120</td>\n",
       "      <td>354</td>\n",
       "    </tr>\n",
       "  </tbody>\n",
       "</table>\n",
       "</div>"
      ],
      "text/plain": [
       "   Age  Resting Blood Pressure  Cholestoral\n",
       "0   63                     145          233\n",
       "1   37                     130          250\n",
       "2   41                     130          204\n",
       "3   56                     120          236\n",
       "4   57                     120          354"
      ]
     },
     "execution_count": 72,
     "metadata": {},
     "output_type": "execute_result"
    }
   ],
   "source": [
    "#Now we are only working with Quantitative variable\n",
    "df_qnt = df[['Age','Resting Blood Pressure','Cholestoral']]\n",
    "df_qnt.head()"
   ]
  },
  {
   "cell_type": "markdown",
   "metadata": {
    "id": "qWZ0gYi9KfRS"
   },
   "source": [
    "**Mean:** It is the average of a set of numerical values."
   ]
  },
  {
   "cell_type": "code",
   "execution_count": 73,
   "metadata": {
    "colab": {
     "base_uri": "https://localhost:8080/"
    },
    "id": "8MhWISqg5K0l",
    "outputId": "431fcb79-1682-4d0c-c751-af674ec99b0c"
   },
   "outputs": [
    {
     "data": {
      "text/plain": [
       "Age                        54.70\n",
       "Resting Blood Pressure    133.38\n",
       "Cholestoral               246.63\n",
       "dtype: float64"
      ]
     },
     "execution_count": 73,
     "metadata": {},
     "output_type": "execute_result"
    }
   ],
   "source": [
    "df_qnt.mean()"
   ]
  },
  {
   "cell_type": "markdown",
   "metadata": {
    "id": "cdtIylmOR789"
   },
   "source": [
    "The average Age is 54.74 Resting Blood Pressure is 133.38 and Cholestoral is 246.63"
   ]
  },
  {
   "cell_type": "markdown",
   "metadata": {
    "id": "RMSCkO7iLyuZ"
   },
   "source": [
    "**Median:** The median is the middle number in a sorted, ascending or descending, list of numbers and can be more descriptive of that data set than the average."
   ]
  },
  {
   "cell_type": "code",
   "execution_count": 74,
   "metadata": {
    "colab": {
     "base_uri": "https://localhost:8080/"
    },
    "id": "BKAgsNqV5VA1",
    "outputId": "3cb072bd-d6e6-4c14-8397-c025aa0c9ffa"
   },
   "outputs": [
    {
     "data": {
      "text/plain": [
       "Age                        56.0\n",
       "Resting Blood Pressure    130.0\n",
       "Cholestoral               239.0\n",
       "dtype: float64"
      ]
     },
     "execution_count": 74,
     "metadata": {},
     "output_type": "execute_result"
    }
   ],
   "source": [
    "df_qnt.median()"
   ]
  },
  {
   "cell_type": "markdown",
   "metadata": {
    "id": "4Ow8tf-MSLLN"
   },
   "source": [
    "The Median of Age is 56 , Cholestoral is 239 and Resting Blood Pressure is 130"
   ]
  },
  {
   "cell_type": "markdown",
   "metadata": {
    "id": "zEoO77RCL2js"
   },
   "source": [
    "**Mode:**The mode is the value that appears most frequently in a data set. A set of data may have one mode, more than one mode, or no mode at all."
   ]
  },
  {
   "cell_type": "code",
   "execution_count": 75,
   "metadata": {
    "colab": {
     "base_uri": "https://localhost:8080/",
     "height": 123
    },
    "id": "cN-c2lEn5ct2",
    "outputId": "7b9cd7c3-ede1-444d-bfd9-380af7d8f4fa"
   },
   "outputs": [
    {
     "data": {
      "text/html": [
       "<div>\n",
       "<style scoped>\n",
       "    .dataframe tbody tr th:only-of-type {\n",
       "        vertical-align: middle;\n",
       "    }\n",
       "\n",
       "    .dataframe tbody tr th {\n",
       "        vertical-align: top;\n",
       "    }\n",
       "\n",
       "    .dataframe thead th {\n",
       "        text-align: right;\n",
       "    }\n",
       "</style>\n",
       "<table border=\"1\" class=\"dataframe\">\n",
       "  <thead>\n",
       "    <tr style=\"text-align: right;\">\n",
       "      <th></th>\n",
       "      <th>Age</th>\n",
       "      <th>Resting Blood Pressure</th>\n",
       "      <th>Cholestoral</th>\n",
       "    </tr>\n",
       "  </thead>\n",
       "  <tbody>\n",
       "    <tr>\n",
       "      <th>0</th>\n",
       "      <td>58</td>\n",
       "      <td>130</td>\n",
       "      <td>177.0</td>\n",
       "    </tr>\n",
       "    <tr>\n",
       "      <th>1</th>\n",
       "      <td>60</td>\n",
       "      <td>140</td>\n",
       "      <td>NaN</td>\n",
       "    </tr>\n",
       "  </tbody>\n",
       "</table>\n",
       "</div>"
      ],
      "text/plain": [
       "   Age  Resting Blood Pressure  Cholestoral\n",
       "0   58                     130        177.0\n",
       "1   60                     140          NaN"
      ]
     },
     "execution_count": 75,
     "metadata": {},
     "output_type": "execute_result"
    }
   ],
   "source": [
    "df_qnt.mode()"
   ]
  },
  {
   "cell_type": "markdown",
   "metadata": {
    "id": "oUN7tvuoSeRW"
   },
   "source": [
    "The mode of Age is 58 and 60 as both of them are counted same time,Similarly Resting Blood Pressure is 130 and 140 and cholestoral is 177 which occurs most times."
   ]
  },
  {
   "cell_type": "markdown",
   "metadata": {
    "id": "MJObg7BlL5RK"
   },
   "source": [
    "**Range:**The difference between the lowest and highest values"
   ]
  },
  {
   "cell_type": "code",
   "execution_count": 76,
   "metadata": {
    "colab": {
     "base_uri": "https://localhost:8080/"
    },
    "id": "RVlT_ztM77jl",
    "outputId": "e9860d74-a4eb-4ef1-881f-faa55d302f6b"
   },
   "outputs": [
    {
     "data": {
      "text/plain": [
       "Age                        34\n",
       "Resting Blood Pressure     76\n",
       "Cholestoral               253\n",
       "dtype: int64"
      ]
     },
     "execution_count": 76,
     "metadata": {},
     "output_type": "execute_result"
    }
   ],
   "source": [
    "df_qnt.max()-df_qnt.min()"
   ]
  },
  {
   "cell_type": "markdown",
   "metadata": {
    "id": "gnxQYwTQS_nJ"
   },
   "source": [
    "The range of Age is 34 which is from 37-71.Resting Blood Pressure is 76 which is from 104-180 and Cholestoral is   whic is from 164 - 417."
   ]
  },
  {
   "cell_type": "markdown",
   "metadata": {
    "id": "xFYK6TFSL8ND"
   },
   "source": [
    "**Variance:**The term variance refers to a statistical measurement of the spread between numbers in a data set. More specifically, variance measures how far each number in the set is from the mean and thus from every other number in the set."
   ]
  },
  {
   "cell_type": "code",
   "execution_count": 77,
   "metadata": {
    "colab": {
     "base_uri": "https://localhost:8080/"
    },
    "id": "QoryyQs38EYC",
    "outputId": "9b0785c7-f6d4-446b-a806-88d62bf862ca"
   },
   "outputs": [
    {
     "data": {
      "text/plain": [
       "Age                         65.505051\n",
       "Resting Blood Pressure     240.056162\n",
       "Cholestoral               2373.588990\n",
       "dtype: float64"
      ]
     },
     "execution_count": 77,
     "metadata": {},
     "output_type": "execute_result"
    }
   ],
   "source": [
    "df_qnt.var()"
   ]
  },
  {
   "cell_type": "markdown",
   "metadata": {
    "id": "2BNvmOz_UmKS"
   },
   "source": [
    "The variance of age is 65.51, Resting Blood Pressure is 240.057 and Cholestoral is 2373.589."
   ]
  },
  {
   "cell_type": "markdown",
   "metadata": {
    "id": "hk59ubN-L-28"
   },
   "source": [
    "**Standard Deviation:**standard deviation is a measure of the amount of variation or dispersion of a set of values. A low standard deviation indicates that the values tend to be close to the mean (also called the expected value) of the set, while a high standard deviation indicates that the values are spread out over a wider range."
   ]
  },
  {
   "cell_type": "code",
   "execution_count": 78,
   "metadata": {
    "colab": {
     "base_uri": "https://localhost:8080/"
    },
    "id": "Uyq0Z0Nk8YMj",
    "outputId": "439e66f8-2faa-4b76-a797-6d09ebcee9bd"
   },
   "outputs": [
    {
     "data": {
      "text/plain": [
       "Age                        8.093519\n",
       "Resting Blood Pressure    15.493746\n",
       "Cholestoral               48.719493\n",
       "dtype: float64"
      ]
     },
     "execution_count": 78,
     "metadata": {},
     "output_type": "execute_result"
    }
   ],
   "source": [
    "df_qnt.std()"
   ]
  },
  {
   "cell_type": "markdown",
   "metadata": {
    "id": "AyFUaD0-U4x3"
   },
   "source": [
    "We can get a real view of the dispersion of data when we look into the standard deviation. Here The standard deviation of Age is 8.1. It means the data aren't very dispersed and Age data tend to close to the mean. Resting Blood Pressure's standard deviation is also close to the mean. But The Cholesterol data is very spread out over the range. And the standard deviation is very high."
   ]
  },
  {
   "cell_type": "markdown",
   "metadata": {
    "id": "09A92T-rXu9L"
   },
   "source": [
    "# **6. Draw appropriate figures (histogram/bar diagram/pie chart/box plot/scatter plot/ time series etc.) using the features (or sub group of data) and explain the properties of these plots.**\n",
    "\n",
    "# **7. Analyze these figures and comment on the distribution, composition, range of values,correlation with target etc. of the data.e.g. What can we tell about the data seeing the plots?**\n"
   ]
  },
  {
   "cell_type": "markdown",
   "metadata": {
    "id": "Oyj510ex5e0u"
   },
   "source": [
    "**Histogram :**"
   ]
  },
  {
   "cell_type": "code",
   "execution_count": 79,
   "metadata": {
    "colab": {
     "base_uri": "https://localhost:8080/",
     "height": 685
    },
    "id": "xuiusj8ne25I",
    "outputId": "9687cca7-11e8-4673-800b-be9bc6fbc6b3"
   },
   "outputs": [
    {
     "name": "stderr",
     "output_type": "stream",
     "text": [
      "F:\\New folder\\lib\\site-packages\\seaborn\\distributions.py:2551: FutureWarning: `distplot` is a deprecated function and will be removed in a future version. Please adapt your code to use either `displot` (a figure-level function with similar flexibility) or `histplot` (an axes-level function for histograms).\n",
      "  warnings.warn(msg, FutureWarning)\n",
      "F:\\New folder\\lib\\site-packages\\seaborn\\distributions.py:2551: FutureWarning: `distplot` is a deprecated function and will be removed in a future version. Please adapt your code to use either `displot` (a figure-level function with similar flexibility) or `histplot` (an axes-level function for histograms).\n",
      "  warnings.warn(msg, FutureWarning)\n",
      "F:\\New folder\\lib\\site-packages\\seaborn\\distributions.py:2551: FutureWarning: `distplot` is a deprecated function and will be removed in a future version. Please adapt your code to use either `displot` (a figure-level function with similar flexibility) or `histplot` (an axes-level function for histograms).\n",
      "  warnings.warn(msg, FutureWarning)\n"
     ]
    },
    {
     "data": {
      "text/plain": [
       "<matplotlib.legend.Legend at 0x17459c178b0>"
      ]
     },
     "execution_count": 79,
     "metadata": {},
     "output_type": "execute_result"
    },
    {
     "data": {
      "image/png": "[encoded data removed]",
      "text/plain": [
       "<Figure size 864x720 with 4 Axes>"
      ]
     },
     "metadata": {
      "needs_background": "light"
     },
     "output_type": "display_data"
    }
   ],
   "source": [
    "\n",
    "fig, ((ax1,ax2),(ax3,ax4)) = plt.subplots(2,2,sharex=False,sharey=False, figsize=(12,10))\n",
    "\n",
    "sns.distplot(df['Age'], hist_kws={'color':'Teal'},kde_kws={'color':'Navy'},ax=ax1,bins=20);\n",
    "ax1.axvline(df['Age'].mean(), color='Black', linestyle='dashed', linewidth=2)\n",
    "ax1.axvline(df['Age'].median(), color='Black', linestyle='-', linewidth=2)\n",
    "ax1.legend(['kde','mean','median'])\n",
    "\n",
    "sns.distplot(df['Resting Blood Pressure'], hist_kws={'color':'Teal'},kde_kws={'color':'Navy'},ax=ax2,bins=20);\n",
    "ax2.axvline(df['Resting Blood Pressure'].mean(), color='Black', linestyle='dashed', linewidth=2)\n",
    "ax2.axvline(df['Resting Blood Pressure'].median(), color='Black', linestyle='-', linewidth=2)\n",
    "ax2.legend(['kde','mean','median'])\n",
    "\n",
    "sns.distplot(df['Cholestoral'], hist_kws={'color':'Teal'},kde_kws={'color':'Navy'},bins=20,ax=ax3);\n",
    "ax3.axvline(df['Cholestoral'].mean(), color='Black', linestyle='dashed', linewidth=2)\n",
    "ax3.axvline(df['Cholestoral'].median(), color='Black', linestyle='-', linewidth=2)\n",
    "ax3.legend(['kde','mean','median'])"
   ]
  },
  {
   "cell_type": "markdown",
   "metadata": {
    "id": "ReW63yOQY-ca"
   },
   "source": [
    "A histogram is an approximate representation of the distribution of numerical data. It gives a rough sense of the density of the underlying distribution of the data, and often for density estimation: estimating the probability density function of the underlying variable.\\\n",
    "\\\n",
    "For the first histogram, the distribution is left-skewed as the mean < median. For the second one, the distribution is right-skewed as the median > mean. And the last one distribution is also right-skewed as median > mean.\\\n",
    "\\\n",
    "For the first Age distribution histogram, the data are mostly distributed in the 45-65 range. For the second one Resting Blood Pressure histogram, the data are mostly distributed in the 120-145 range. And for the last one, the density of data is higher in the 170-280 range."
   ]
  },
  {
   "cell_type": "markdown",
   "metadata": {
    "id": "g7LdaTDF51Uk"
   },
   "source": [
    "**Box Plot :**"
   ]
  },
  {
   "cell_type": "code",
   "execution_count": 80,
   "metadata": {
    "colab": {
     "base_uri": "https://localhost:8080/",
     "height": 626
    },
    "id": "qk6H9HaCuC9i",
    "outputId": "db1cbfb7-66f3-44c8-d7f0-623af17c242b"
   },
   "outputs": [
    {
     "data": {
      "text/plain": [
       "Text(0, 0.5, 'Resting Blood Pressure')"
      ]
     },
     "execution_count": 80,
     "metadata": {},
     "output_type": "execute_result"
    },
    {
     "data": {
      "image/png": "[encoded data removed]",
      "text/plain": [
       "<Figure size 720x720 with 4 Axes>"
      ]
     },
     "metadata": {
      "needs_background": "light"
     },
     "output_type": "display_data"
    }
   ],
   "source": [
    "fig, ((ax1,ax2),(ax3,ax4)) = plt.subplots(2,2,sharex=False,sharey=False)\n",
    "fig.set_size_inches(10,10)\n",
    "ax1.boxplot(df['Age'],whis=1.5)\n",
    "ax1.set_ylabel(\"Age\")\n",
    "ax2.boxplot(df['Cholestoral'],whis=1.5)\n",
    "ax2.set_ylabel(\"Cholestoral\")\n",
    "ax3.boxplot(df['Resting Blood Pressure'],whis=1.5)\n",
    "ax3.set_ylabel(\"Resting Blood Pressure\")\n"
   ]
  },
  {
   "cell_type": "markdown",
   "metadata": {
    "id": "5yBY-fJihXD0"
   },
   "source": [
    "A box and whisker plot—also called a box plot—displays the five-number summary of a set of data. The five-number summary is the minimum, first quartile, median, third quartile, and maximum. In a box plot, we draw a box from the first quartile to the third quartile. A vertical line goes through the box at the median.\\\n",
    "\\\n",
    "For Age data, the median is 57. Q1 is 49 and Q3 is 58. For whisker 1.5 there are no outlier values.\\\n",
    "For the Cholesterol data, the median is about 240. Q1 is 220 and Q3 is 280. For whisker 1.5 there are two outlier values.\\\n",
    "For the Resting Blood Pressure data, the median is 130.Q1 is 120 and Q2 is 240. For Whisker 1.5 there are two outlier values."
   ]
  },
  {
   "cell_type": "markdown",
   "metadata": {
    "id": "DlRPNTp859tk"
   },
   "source": [
    "**Scatter Plot :**"
   ]
  },
  {
   "cell_type": "code",
   "execution_count": 81,
   "metadata": {
    "colab": {
     "base_uri": "https://localhost:8080/",
     "height": 387
    },
    "id": "vP1KI-2rvI5Y",
    "outputId": "7b36da1c-b4fc-4f8e-920b-b5a61fccbc78"
   },
   "outputs": [
    {
     "data": {
      "image/png": "[encoded data removed]",
      "text/plain": [
       "<Figure size 864x360 with 2 Axes>"
      ]
     },
     "metadata": {
      "needs_background": "light"
     },
     "output_type": "display_data"
    }
   ],
   "source": [
    "ax = df.plot.scatter('Age','Resting Blood Pressure',c='Resting Blood Pressure', s= df['Age'],colormap='viridis',sharex=False, figsize=(12,5));\n",
    "ax.set(xlabel=\"Age\")\n",
    "ax.set_title(\"Age vs Resting Blood Pressure Scatter Plot\");"
   ]
  },
  {
   "cell_type": "markdown",
   "metadata": {
    "id": "cfYdaqG7j8kE"
   },
   "source": [
    "This scatter plot shows changes in Resting Blood Pressure according to people's age. It is noticed that when Age increases the possibility of increasing Blood pressure is high. For the 37-50 age range, there is no patient having blood pressure of more than 150. But in the range above 50, there are multiple patients having blood pressure more than 150."
   ]
  },
  {
   "cell_type": "code",
   "execution_count": 82,
   "metadata": {
    "colab": {
     "base_uri": "https://localhost:8080/",
     "height": 351
    },
    "id": "MNoh5Ag6vWHo",
    "outputId": "21f688be-6299-42eb-9f34-f967f6621b28"
   },
   "outputs": [
    {
     "data": {
      "image/png": "[encoded data removed]",
      "text/plain": [
       "<Figure size 864x360 with 2 Axes>"
      ]
     },
     "metadata": {
      "needs_background": "light"
     },
     "output_type": "display_data"
    }
   ],
   "source": [
    "ax = df.plot.scatter('Age','Cholestoral',c='Cholestoral', s= df['Age'],colormap='viridis',sharex=False, figsize=(12,5));\n",
    "ax.set(xlabel=\"Age\")\n",
    "ax.set_title(\"Age vs Cholestoral Scatter Plot\");"
   ]
  },
  {
   "cell_type": "markdown",
   "metadata": {
    "id": "Ees3VYnklBvA"
   },
   "source": [
    "For the Age vs Cholesterol scatter plot there is also an increasing trend in cholesterol when age increases. For 37-55 age, the maximum cholesterol limit is 325 but for greater than 55 range there are multiple patients having cholesterol greater than 330 even some of them are in 370 range."
   ]
  },
  {
   "cell_type": "code",
   "execution_count": 83,
   "metadata": {
    "colab": {
     "base_uri": "https://localhost:8080/",
     "height": 351
    },
    "id": "KeHiiwsAwfNI",
    "outputId": "ac8227ca-7eae-4a4d-d74b-350a90571ff9"
   },
   "outputs": [
    {
     "data": {
      "image/png": "[encoded data removed]",
      "text/plain": [
       "<Figure size 864x360 with 2 Axes>"
      ]
     },
     "metadata": {
      "needs_background": "light"
     },
     "output_type": "display_data"
    }
   ],
   "source": [
    "ax = df.plot.scatter('Resting Blood Pressure','Cholestoral',c='Cholestoral', s= df['Resting Blood Pressure'],colormap='viridis',sharex=False, figsize=(12,5));\n",
    "ax.set(xlabel=\"Resting Blood Pressure\")\n",
    "ax.set_title(\"Resting Blood Pressure vs Cholestoral Scatter Plot\");"
   ]
  },
  {
   "cell_type": "markdown",
   "metadata": {
    "id": "945_g0bumJIl"
   },
   "source": [
    "For Resting Blood Pressure and Cholesterol scatter plot we can notice that those who have low resting blood pressure also have a low level of cholesterol. But when the rate of resting blood pressure increases the cholesterol rate also increases simultaneously."
   ]
  },
  {
   "cell_type": "markdown",
   "metadata": {
    "id": "coMYJ-pa6FNK"
   },
   "source": [
    "**Bar Graph :**"
   ]
  },
  {
   "cell_type": "code",
   "execution_count": 84,
   "metadata": {
    "colab": {
     "base_uri": "https://localhost:8080/",
     "height": 251
    },
    "id": "7GwZV8NkzO3a",
    "outputId": "2cdf7f1c-7dc7-450d-b15c-0359f273b524"
   },
   "outputs": [
    {
     "data": {
      "image/png": "[encoded data removed]",
      "text/plain": [
       "<Figure size 1440x432 with 1 Axes>"
      ]
     },
     "metadata": {
      "needs_background": "light"
     },
     "output_type": "display_data"
    }
   ],
   "source": [
    "pd.crosstab(df.Age,df.Target).plot(kind=\"bar\",figsize=(20,6))\n",
    "plt.title('Heart Disease Frequency for Ages')\n",
    "plt.xlabel('Age')\n",
    "plt.ylabel('Frequency')\n",
    "plt.show()"
   ]
  },
  {
   "cell_type": "markdown",
   "metadata": {
    "id": "dTzWw-DhnI5C"
   },
   "source": [
    "From this bar graph, we can notice that for the age range 40-54 there is a comparatively higher heart disease case than the other portion of the bar graph. For age 57-68, there is a comparatively lower chance of heart disease."
   ]
  },
  {
   "cell_type": "code",
   "execution_count": 85,
   "metadata": {
    "colab": {
     "base_uri": "https://localhost:8080/",
     "height": 313
    },
    "id": "Yu0gIa6X0JhQ",
    "outputId": "6376308d-07e3-4690-a67e-13fdd7ed4f57"
   },
   "outputs": [
    {
     "data": {
      "image/png": "[encoded data removed]",
      "text/plain": [
       "<Figure size 1080x432 with 1 Axes>"
      ]
     },
     "metadata": {
      "needs_background": "light"
     },
     "output_type": "display_data"
    }
   ],
   "source": [
    "pd.crosstab(df.Sex,df.Target).plot(kind=\"bar\",figsize=(15,6))\n",
    "plt.title('Heart Disease Frequency for Sex')\n",
    "plt.xlabel('Sex (0 = Female, 1 = Male)')\n",
    "plt.legend([\"Haven't Disease\", \"Have Disease\"])\n",
    "plt.ylabel('Frequency')\n",
    "plt.show()"
   ]
  },
  {
   "cell_type": "markdown",
   "metadata": {
    "id": "VA6mXvWqn4VX"
   },
   "source": [
    "From this bar graph, we can notice that the number of Male patients is higher than Female patients. Though the ratio of female patients having disease compares to haven't diseased is higher than the Male patients."
   ]
  },
  {
   "cell_type": "code",
   "execution_count": 86,
   "metadata": {
    "colab": {
     "base_uri": "https://localhost:8080/",
     "height": 313
    },
    "id": "vZ1BjjLb3ZBU",
    "outputId": "4be14805-438d-4b31-aae8-74e7363931f3"
   },
   "outputs": [
    {
     "data": {
      "image/png": "[encoded data removed]",
      "text/plain": [
       "<Figure size 1080x432 with 1 Axes>"
      ]
     },
     "metadata": {
      "needs_background": "light"
     },
     "output_type": "display_data"
    }
   ],
   "source": [
    "pd.crosstab(df['Chest Pain Type'],df.Target).plot(kind=\"bar\",figsize=(15,6))\n",
    "plt.title('Heart Disease Frequency According To Chest Pain Type')\n",
    "plt.xlabel('Chest Pain Type')\n",
    "plt.ylabel('Frequency of Disease or Not')\n",
    "plt.show()"
   ]
  },
  {
   "cell_type": "markdown",
   "metadata": {
    "id": "mNXRQO-ypQnu"
   },
   "source": [
    "This bar graph compares heart disease patients according to their Chest Pain Type. Those who have no chest pain have a very small probability of heart disease, Those who have Type 1 chest pain have a good chance of heart failure. Those who have type 2 chest pain have a high chance of heart disease. Those who have type 3 chest pain are all of them are heart disease patients."
   ]
  },
  {
   "cell_type": "markdown",
   "metadata": {
    "id": "E_YNMHnihyyc"
   },
   "source": [
    "# **8. Finally tell a story about the given dataset.**"
   ]
  },
  {
   "cell_type": "markdown",
   "metadata": {
    "id": "Ia90ZtGqilFi"
   },
   "source": [
    "The dataset I used in this EDA is called the heart_disease dataset. The total dataset has 100 instances. There are six features in this dataset called Age, Sex, Chest Pain Type, Resting Blood Pressure, Cholesterol, and Target. There is no missing value in this dataset. Here our feature variable of interest is Target. It refers to the presence of heart disease in the patient. Target value 1 stands for patients having heart disease and 0 refers to the absence of heart disease. Here 50 of our patients are suffering from heart disease whom 20 are Female and 30 are Male. Among 100 patients 47 have no chest pain, 13 have chest pain type 1,33 have chest pain type 2 and 7 have chest pain type 3.There is a high probability of heart disease people age ranging from 40-54. The people suffering from heart disease have relatively higher heart rates and cholesterol level is also high. For most of the patients, Chest pain and Cholesterol also increases according to age. Those who have high Blood Pressure and High cholesterol have a greater number of chest pain. All the patients having type 3 chest pain also have heart disease. The standard deviation of Cholesterol is very high and data is spread out over a large range."
   ]
  }
 ],
 "metadata": {
  "colab": {
   "collapsed_sections": [],
   "name": "CSE_345 Assignment on Exploratory Data Analysis",
   "provenance": []
  },
  "kernelspec": {
   "display_name": "Python 3",
   "language": "python",
   "name": "python3"
  },
  "language_info": {
   "codemirror_mode": {
    "name": "ipython",
    "version": 3
   },
   "file_extension": ".py",
   "mimetype": "text/x-python",
   "name": "python",
   "nbconvert_exporter": "python",
   "pygments_lexer": "ipython3",
   "version": "3.8.5"
  }
 },
 "nbformat": 4,
 "nbformat_minor": 1
}
